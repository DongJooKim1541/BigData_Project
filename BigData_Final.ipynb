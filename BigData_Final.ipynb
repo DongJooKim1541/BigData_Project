{
 "cells": [
  {
   "cell_type": "markdown",
   "metadata": {},
   "source": [
    "# 빅데이터 기말고사"
   ]
  },
  {
   "cell_type": "markdown",
   "metadata": {},
   "source": [
    "## 1. 오픈 데이터 해설"
   ]
  },
  {
   "cell_type": "markdown",
   "metadata": {},
   "source": [
    "오픈 데이터 : 2005년부터 2018년까지의 한국 소득과 복지<br/>\n",
    "오픈 데이터 출처 : Kaggle [Korea Income and Welfare](https://www.kaggle.com/hongsean/korea-income-and-welfare)"
   ]
  },
  {
   "cell_type": "markdown",
   "metadata": {},
   "source": [
    "#### 기존 데이터 이용 사례"
   ]
  },
  {
   "cell_type": "markdown",
   "metadata": {},
   "source": [
    "1. [Job Group and Gender](https://www.kaggle.com/hosubjeong/korea-income-job-group-and-gender): 성별에 초점을 둔 것을 기준으로 삼고 데이터 분석\n",
    "2. [Korea: Data Analysis Based on Incime](https://www.kaggle.com/byeongheonkang/eda-korea-data-analysis-based-on-income): 한국 학력 수준에서 대졸자가 많다는 것에 주목함"
   ]
  },
  {
   "cell_type": "markdown",
   "metadata": {},
   "source": [
    "데이터에는 총 14개의 열이 있다.<br/>\n",
    "**id(여기선 癤퓁d로 깨져서 나온다), 연도, wave(2005년이 1, 2018이 14), 지역, 수입, 가족 수, 성별, 생년월일, 교육 수준, 결혼 상태, 종교, 직업(별도의 엑셀파일로 분리), 회사 크기, 무직 이유** 와 같은 정보가 있는 것을 알 수 있다."
   ]
  },
  {
   "cell_type": "markdown",
   "metadata": {},
   "source": [
    "## 2. 데이터 보기"
   ]
  },
  {
   "cell_type": "code",
   "execution_count": 1,
   "metadata": {},
   "outputs": [
    {
     "data": {
      "text/html": [
       "<div>\n",
       "<style scoped>\n",
       "    .dataframe tbody tr th:only-of-type {\n",
       "        vertical-align: middle;\n",
       "    }\n",
       "\n",
       "    .dataframe tbody tr th {\n",
       "        vertical-align: top;\n",
       "    }\n",
       "\n",
       "    .dataframe thead th {\n",
       "        text-align: right;\n",
       "    }\n",
       "</style>\n",
       "<table border=\"1\" class=\"dataframe\">\n",
       "  <thead>\n",
       "    <tr style=\"text-align: right;\">\n",
       "      <th></th>\n",
       "      <th>Unnamed: 0</th>\n",
       "      <th>癤퓁d</th>\n",
       "      <th>year</th>\n",
       "      <th>wave</th>\n",
       "      <th>region</th>\n",
       "      <th>income</th>\n",
       "      <th>family_member</th>\n",
       "      <th>gender</th>\n",
       "      <th>year_born</th>\n",
       "      <th>education_level</th>\n",
       "      <th>marriage</th>\n",
       "      <th>religion</th>\n",
       "      <th>occupation</th>\n",
       "      <th>company_size</th>\n",
       "      <th>reason_none_worker</th>\n",
       "    </tr>\n",
       "  </thead>\n",
       "  <tbody>\n",
       "    <tr>\n",
       "      <th>0</th>\n",
       "      <td>0</td>\n",
       "      <td>10101</td>\n",
       "      <td>2005</td>\n",
       "      <td>1</td>\n",
       "      <td>1</td>\n",
       "      <td>614.0</td>\n",
       "      <td>1</td>\n",
       "      <td>2</td>\n",
       "      <td>1936</td>\n",
       "      <td>2</td>\n",
       "      <td>2</td>\n",
       "      <td>2</td>\n",
       "      <td></td>\n",
       "      <td></td>\n",
       "      <td>8</td>\n",
       "    </tr>\n",
       "    <tr>\n",
       "      <th>1</th>\n",
       "      <td>1</td>\n",
       "      <td>10101</td>\n",
       "      <td>2011</td>\n",
       "      <td>7</td>\n",
       "      <td>1</td>\n",
       "      <td>896.0</td>\n",
       "      <td>1</td>\n",
       "      <td>2</td>\n",
       "      <td>1936</td>\n",
       "      <td>2</td>\n",
       "      <td>2</td>\n",
       "      <td>2</td>\n",
       "      <td></td>\n",
       "      <td></td>\n",
       "      <td>10</td>\n",
       "    </tr>\n",
       "    <tr>\n",
       "      <th>2</th>\n",
       "      <td>2</td>\n",
       "      <td>10101</td>\n",
       "      <td>2012</td>\n",
       "      <td>8</td>\n",
       "      <td>1</td>\n",
       "      <td>1310.0</td>\n",
       "      <td>1</td>\n",
       "      <td>2</td>\n",
       "      <td>1936</td>\n",
       "      <td>2</td>\n",
       "      <td>2</td>\n",
       "      <td>2</td>\n",
       "      <td></td>\n",
       "      <td></td>\n",
       "      <td>10</td>\n",
       "    </tr>\n",
       "    <tr>\n",
       "      <th>3</th>\n",
       "      <td>3</td>\n",
       "      <td>10101</td>\n",
       "      <td>2013</td>\n",
       "      <td>9</td>\n",
       "      <td>1</td>\n",
       "      <td>2208.0</td>\n",
       "      <td>1</td>\n",
       "      <td>2</td>\n",
       "      <td>1936</td>\n",
       "      <td>2</td>\n",
       "      <td>2</td>\n",
       "      <td>2</td>\n",
       "      <td></td>\n",
       "      <td></td>\n",
       "      <td>1</td>\n",
       "    </tr>\n",
       "    <tr>\n",
       "      <th>4</th>\n",
       "      <td>4</td>\n",
       "      <td>10101</td>\n",
       "      <td>2014</td>\n",
       "      <td>10</td>\n",
       "      <td>1</td>\n",
       "      <td>864.0</td>\n",
       "      <td>1</td>\n",
       "      <td>2</td>\n",
       "      <td>1936</td>\n",
       "      <td>2</td>\n",
       "      <td>2</td>\n",
       "      <td>2</td>\n",
       "      <td></td>\n",
       "      <td></td>\n",
       "      <td>10</td>\n",
       "    </tr>\n",
       "  </tbody>\n",
       "</table>\n",
       "</div>"
      ],
      "text/plain": [
       "   Unnamed: 0    癤퓁d  year  wave  region  income  family_member  gender  \\\n",
       "0           0  10101  2005     1       1   614.0              1       2   \n",
       "1           1  10101  2011     7       1   896.0              1       2   \n",
       "2           2  10101  2012     8       1  1310.0              1       2   \n",
       "3           3  10101  2013     9       1  2208.0              1       2   \n",
       "4           4  10101  2014    10       1   864.0              1       2   \n",
       "\n",
       "   year_born  education_level  marriage  religion occupation company_size  \\\n",
       "0       1936                2         2         2                           \n",
       "1       1936                2         2         2                           \n",
       "2       1936                2         2         2                           \n",
       "3       1936                2         2         2                           \n",
       "4       1936                2         2         2                           \n",
       "\n",
       "  reason_none_worker  \n",
       "0                  8  \n",
       "1                 10  \n",
       "2                 10  \n",
       "3                  1  \n",
       "4                 10  "
      ]
     },
     "execution_count": 1,
     "metadata": {},
     "output_type": "execute_result"
    }
   ],
   "source": [
    "# 관련 라이브러리 불러오기\n",
    "import pandas as pd           #판다스\n",
    "import matplotlib as mpl       #맷플롭립\n",
    "import matplotlib.pylab as plt   #맷플롭립\n",
    "import seaborn as sns          #시본 \n",
    "import numpy as np           #넘파이\n",
    "\n",
    "\n",
    "#한글 폰트 설정\n",
    "plt.rc('font', family='Malgun Gothic')\n",
    "\n",
    "#파일경로를 찾고 변수 file_path에 저장\n",
    "file_path= 'C:/Users/willk/Korea Income and Welfare.csv'\n",
    "\n",
    "\n",
    "#read csv()함수로 데이터프레임 변환 \n",
    "df= pd.read_csv(file_path, encoding='CP949')\n",
    "\n",
    "#to_csv 함수를 사용 csv파일로 내보내기\n",
    "#data폴더에 sample_data.csv 저장 \n",
    "df.to_csv('C:/Users/willk/빅데이터 기말고사.csv')\n",
    "\n",
    "#저장 파일 확인 \n",
    "file_path= 'C:/Users/willk/빅데이터 기말고사.csv'\n",
    "df = pd.read_csv(file_path)\n",
    "df.head()"
   ]
  },
  {
   "cell_type": "code",
   "execution_count": 2,
   "metadata": {},
   "outputs": [
    {
     "name": "stdout",
     "output_type": "stream",
     "text": [
      "<class 'pandas.core.frame.DataFrame'>\n",
      "RangeIndex: 92857 entries, 0 to 92856\n",
      "Data columns (total 15 columns):\n",
      " #   Column              Non-Null Count  Dtype  \n",
      "---  ------              --------------  -----  \n",
      " 0   Unnamed: 0          92857 non-null  int64  \n",
      " 1   癤퓁d                 92857 non-null  int64  \n",
      " 2   year                92857 non-null  int64  \n",
      " 3   wave                92857 non-null  int64  \n",
      " 4   region              92857 non-null  int64  \n",
      " 5   income              92857 non-null  float64\n",
      " 6   family_member       92857 non-null  int64  \n",
      " 7   gender              92857 non-null  int64  \n",
      " 8   year_born           92857 non-null  int64  \n",
      " 9   education_level     92857 non-null  int64  \n",
      " 10  marriage            92857 non-null  int64  \n",
      " 11  religion            92857 non-null  int64  \n",
      " 12  occupation          92857 non-null  object \n",
      " 13  company_size        92857 non-null  object \n",
      " 14  reason_none_worker  92857 non-null  object \n",
      "dtypes: float64(1), int64(11), object(3)\n",
      "memory usage: 10.6+ MB\n"
     ]
    }
   ],
   "source": [
    "df.info() # 데이터프레임의 기본 정보 출력"
   ]
  },
  {
   "cell_type": "markdown",
   "metadata": {},
   "source": [
    "데이터는 **92857행 15열**로 이루어져 있다. 데이터의 Non-Null Count 를 null값이 있는 데이터가 없으므로 나중에 결측 데이터 처리가 필요 없는 것을 알 수 있다."
   ]
  },
  {
   "cell_type": "code",
   "execution_count": 3,
   "metadata": {},
   "outputs": [
    {
     "name": "stdout",
     "output_type": "stream",
     "text": [
      "year\n",
      "2005    7072\n",
      "2006    6580\n",
      "2007    6314\n",
      "2008    6207\n",
      "2009    6034\n",
      "2010    5735\n",
      "2011    7532\n",
      "2012    7312\n",
      "2013    7048\n",
      "2014    6914\n",
      "2015    6723\n",
      "2016    6581\n",
      "2017    6474\n",
      "2018    6331\n",
      "dtype: int64\n"
     ]
    }
   ],
   "source": [
    "year=df.groupby(\"year\")\n",
    "print(year.size())"
   ]
  },
  {
   "cell_type": "code",
   "execution_count": 4,
   "metadata": {},
   "outputs": [
    {
     "name": "stdout",
     "output_type": "stream",
     "text": [
      "region\n",
      "1    14437\n",
      "2    19353\n",
      "3    16154\n",
      "4    12205\n",
      "5     7843\n",
      "6     6927\n",
      "7    15938\n",
      "dtype: int64\n"
     ]
    }
   ],
   "source": [
    "region=df.groupby(\"region\")\n",
    "print(region.size())"
   ]
  },
  {
   "cell_type": "code",
   "execution_count": 5,
   "metadata": {},
   "outputs": [
    {
     "name": "stdout",
     "output_type": "stream",
     "text": [
      "family_member\n",
      "1    25086\n",
      "2    28668\n",
      "3    16030\n",
      "4    16857\n",
      "5     4845\n",
      "6     1123\n",
      "7      211\n",
      "8       28\n",
      "9        9\n",
      "dtype: int64\n"
     ]
    }
   ],
   "source": [
    "family_member=df.groupby(\"family_member\")\n",
    "print(family_member.size())"
   ]
  },
  {
   "cell_type": "code",
   "execution_count": 6,
   "metadata": {},
   "outputs": [
    {
     "name": "stdout",
     "output_type": "stream",
     "text": [
      "gender\n",
      "1    65342\n",
      "2    27515\n",
      "dtype: int64\n"
     ]
    }
   ],
   "source": [
    "gender=df.groupby(\"gender\")\n",
    "print(gender.size())"
   ]
  },
  {
   "cell_type": "code",
   "execution_count": 7,
   "metadata": {},
   "outputs": [
    {
     "name": "stdout",
     "output_type": "stream",
     "text": [
      "year_born\n",
      "1910     9\n",
      "1911     5\n",
      "1912     1\n",
      "1913     5\n",
      "1914    17\n",
      "        ..\n",
      "1996    14\n",
      "1997    13\n",
      "1998     6\n",
      "1999     3\n",
      "2002     1\n",
      "Length: 90, dtype: int64\n"
     ]
    }
   ],
   "source": [
    "year_born=df.groupby(\"year_born\")\n",
    "print(year_born.size())"
   ]
  },
  {
   "cell_type": "code",
   "execution_count": 8,
   "metadata": {},
   "outputs": [
    {
     "name": "stdout",
     "output_type": "stream",
     "text": [
      "education_level\n",
      "2    10858\n",
      "3    21149\n",
      "4    12219\n",
      "5    26181\n",
      "6     5912\n",
      "7    14038\n",
      "8     2221\n",
      "9      279\n",
      "dtype: int64\n"
     ]
    }
   ],
   "source": [
    "education_level=df.groupby(\"education_level\")\n",
    "print(education_level.size())"
   ]
  },
  {
   "cell_type": "code",
   "execution_count": 9,
   "metadata": {},
   "outputs": [
    {
     "name": "stdout",
     "output_type": "stream",
     "text": [
      "marriage\n",
      "0       14\n",
      "1    57151\n",
      "2    21218\n",
      "3     7473\n",
      "4     1151\n",
      "5     5788\n",
      "6       55\n",
      "9        7\n",
      "dtype: int64\n"
     ]
    }
   ],
   "source": [
    "marriage=df.groupby(\"marriage\")\n",
    "print(marriage.size())"
   ]
  },
  {
   "cell_type": "code",
   "execution_count": 10,
   "metadata": {},
   "outputs": [
    {
     "name": "stdout",
     "output_type": "stream",
     "text": [
      "religion\n",
      "1    46851\n",
      "2    45952\n",
      "9       54\n",
      "dtype: int64\n"
     ]
    }
   ],
   "source": [
    "religion=df.groupby(\"religion\")\n",
    "print(religion.size())"
   ]
  },
  {
   "cell_type": "code",
   "execution_count": 11,
   "metadata": {},
   "outputs": [
    {
     "name": "stdout",
     "output_type": "stream",
     "text": [
      "occupation\n",
      "        33643\n",
      "1001        6\n",
      "1002       13\n",
      "1009        2\n",
      "1011       39\n",
      "        ...  \n",
      "953       198\n",
      "991       353\n",
      "992        83\n",
      "999       730\n",
      "9999       16\n",
      "Length: 244, dtype: int64\n"
     ]
    }
   ],
   "source": [
    "occupation=df.groupby(\"occupation\")\n",
    "print(occupation.size())"
   ]
  },
  {
   "cell_type": "code",
   "execution_count": 12,
   "metadata": {},
   "outputs": [
    {
     "name": "stdout",
     "output_type": "stream",
     "text": [
      "company_size\n",
      "      33642\n",
      "1     28319\n",
      "10     6905\n",
      "11      393\n",
      "2      5612\n",
      "3      6497\n",
      "4      2669\n",
      "5      1860\n",
      "6      1346\n",
      "7      3478\n",
      "8      1031\n",
      "9      1097\n",
      "99        8\n",
      "dtype: int64\n"
     ]
    }
   ],
   "source": [
    "company_size=df.groupby(\"company_size\")\n",
    "print(company_size.size())"
   ]
  },
  {
   "cell_type": "code",
   "execution_count": 13,
   "metadata": {},
   "outputs": [
    {
     "name": "stdout",
     "output_type": "stream",
     "text": [
      "reason_none_worker\n",
      "      60710\n",
      "0         1\n",
      "1      2499\n",
      "10    19091\n",
      "11      237\n",
      "2         7\n",
      "3        52\n",
      "4       704\n",
      "5       326\n",
      "6      1074\n",
      "7      1119\n",
      "8      4275\n",
      "9      2686\n",
      "99       76\n",
      "dtype: int64\n"
     ]
    }
   ],
   "source": [
    "reason_none_worker=df.groupby(\"reason_none_worker\")\n",
    "print(reason_none_worker.size())"
   ]
  },
  {
   "cell_type": "markdown",
   "metadata": {},
   "source": [
    "|변수명|설명|내용|\n",
    "|:---:|:---:|:---:|\n",
    "|year|당해년도|몇 년도를 기준으로 소득 및 기타 데이터를 조사했는지 알려준다.|\n",
    "|wave|당해년도(수정)|2005를 1로 표기하고 2018을 14로 표기하여 보기 쉽게 바꿨다.|\n",
    "|region|지역|1은 서울, 2는 경기, 3은 경남, 4는 경북, 5는 충남, 6은 강원 및 충북, 7은 전라와 제주를 나타낸다.|\n",
    "|income|소득|백만원 기준이다.|\n",
    "|family_member|가족 수|가족이 몇명인지 확인할 수 있다.|\n",
    "|gender|성별|1은 남성, 2는 여성이다.|\n",
    "|year_born|출생연도|언제 태어났는지 알 수 있다.|\n",
    "|education_level|교육수준|1은 7세 미만까지 배움이 없는 사람, 7세 이상부터 배움이 없는 사람, 3은 초등학교, 4는 중학교, 5는 고등학교, 6은 대학교, 7은 대졸자, 8은 석사학위 보유자, 9는 박사 학위 보유자|\n",
    "|marriage|결혼유무|1은 해당 없음(18세 미만), 2는 기혼, 3은 사별, 4는 이혼, 5는 해당 없음(18세 이상), 6은 기타, 이상 데이터는 추후 대체 예정|\n",
    "|religion|종교유무|1은 종교가 있는 사람, 2는 종교가 없는 사람, 이상 데이터는 추후 제거 예정|\n",
    "|occupation|직업|별도의 엑셀 파일로 제공한다. 데이터가 너무 방대하기 때문에 다루지 않을 예정임|\n",
    "|company_size|회사크기|다루지 않을 예정임|\n",
    "|reason_none_worker|무직이유|1은 무능력, 2는 병역의 의무, 3은 학생, 4는 입시 준비, 5는 입사 준비, 6은 가사 노동자, 7은 육아휴직, 8은 가족 간호, 9는 경제 활동 포기, 10은 일할 의사 없음, 11은 기타, 이상 데이터 99는 추후 대체 예정|"
   ]
  },
  {
   "cell_type": "markdown",
   "metadata": {},
   "source": [
    "## 5. 데이터 분석"
   ]
  },
  {
   "cell_type": "markdown",
   "metadata": {},
   "source": [
    "교재 내용과 중간고사 과정에서 데이터 클린징 이전에 데이터 분석을 먼저 진행하였기 때문에 데이터 분석을 먼저 하기로 했다."
   ]
  },
  {
   "cell_type": "code",
   "execution_count": 14,
   "metadata": {},
   "outputs": [
    {
     "data": {
      "text/plain": [
       "Unnamed: 0              int64\n",
       "癤퓁d                     int64\n",
       "year                    int64\n",
       "wave                    int64\n",
       "region                  int64\n",
       "income                float64\n",
       "family_member           int64\n",
       "gender                  int64\n",
       "year_born               int64\n",
       "education_level         int64\n",
       "marriage                int64\n",
       "religion                int64\n",
       "occupation             object\n",
       "company_size           object\n",
       "reason_none_worker     object\n",
       "dtype: object"
      ]
     },
     "execution_count": 14,
     "metadata": {},
     "output_type": "execute_result"
    }
   ],
   "source": [
    "#데이터프레임 자료형 확인\n",
    "df.dtypes"
   ]
  },
  {
   "cell_type": "markdown",
   "metadata": {},
   "source": [
    "연속형: 癤퓁d(id), year, wave, income<br/>\n",
    "범주형: region, family_member, year_born, education_level, marriage, religion, occupation, company_size, reason_none_worker"
   ]
  },
  {
   "cell_type": "markdown",
   "metadata": {},
   "source": [
    "**데이터프레임 자료형 변환**<br/>\n",
    "범주형 데이터는 카테고리형으로 지정하는 것이 분석 시 용량과 속도 면에서 매우 효율적입니다."
   ]
  },
  {
   "cell_type": "code",
   "execution_count": 15,
   "metadata": {},
   "outputs": [
    {
     "name": "stdout",
     "output_type": "stream",
     "text": [
      "<class 'pandas.core.frame.DataFrame'>\n",
      "RangeIndex: 92857 entries, 0 to 92856\n",
      "Data columns (total 15 columns):\n",
      " #   Column              Non-Null Count  Dtype   \n",
      "---  ------              --------------  -----   \n",
      " 0   Unnamed: 0          92857 non-null  int64   \n",
      " 1   癤퓁d                 92857 non-null  int64   \n",
      " 2   year                92857 non-null  int64   \n",
      " 3   wave                92857 non-null  int64   \n",
      " 4   region              92857 non-null  category\n",
      " 5   income              92857 non-null  float64 \n",
      " 6   family_member       92857 non-null  category\n",
      " 7   gender              92857 non-null  category\n",
      " 8   year_born           92857 non-null  int64   \n",
      " 9   education_level     92857 non-null  category\n",
      " 10  marriage            92857 non-null  category\n",
      " 11  religion            92857 non-null  category\n",
      " 12  occupation          92857 non-null  category\n",
      " 13  company_size        92857 non-null  category\n",
      " 14  reason_none_worker  92857 non-null  category\n",
      "dtypes: category(9), float64(1), int64(5)\n",
      "memory usage: 5.2 MB\n"
     ]
    }
   ],
   "source": [
    "#데이터프레임 자료형 변환\n",
    "#카테고리형의 자전거번호를 문자열으로 변환하여 삽입\n",
    "df['region']=df['region'].astype('category')\n",
    "df['family_member']=df['family_member'].astype('category')\n",
    "df['gender']=df['gender'].astype('category')\n",
    "df['education_level']=df['education_level'].astype('category')\n",
    "df['marriage']=df['marriage'].astype('category')\n",
    "df['religion']=df['religion'].astype('category')\n",
    "df['occupation']=df['occupation'].astype('category')\n",
    "df['company_size']=df['company_size'].astype('category')\n",
    "df['reason_none_worker']=df['reason_none_worker'].astype('category')\n",
    "df.info()"
   ]
  },
  {
   "cell_type": "markdown",
   "metadata": {},
   "source": [
    "범주형 데이터를 카테고리형으로 변환 후 메모리 사용량이 **10.6+ MB**에서 **5.2 MB**로 줄어든 것을 확인할 수 있었다."
   ]
  },
  {
   "cell_type": "code",
   "execution_count": 16,
   "metadata": {},
   "outputs": [
    {
     "data": {
      "text/html": [
       "<div>\n",
       "<style scoped>\n",
       "    .dataframe tbody tr th:only-of-type {\n",
       "        vertical-align: middle;\n",
       "    }\n",
       "\n",
       "    .dataframe tbody tr th {\n",
       "        vertical-align: top;\n",
       "    }\n",
       "\n",
       "    .dataframe thead th {\n",
       "        text-align: right;\n",
       "    }\n",
       "</style>\n",
       "<table border=\"1\" class=\"dataframe\">\n",
       "  <thead>\n",
       "    <tr style=\"text-align: right;\">\n",
       "      <th></th>\n",
       "      <th>Unnamed: 0</th>\n",
       "      <th>癤퓁d</th>\n",
       "      <th>year</th>\n",
       "      <th>wave</th>\n",
       "      <th>income</th>\n",
       "      <th>year_born</th>\n",
       "    </tr>\n",
       "  </thead>\n",
       "  <tbody>\n",
       "    <tr>\n",
       "      <th>count</th>\n",
       "      <td>92857.00000</td>\n",
       "      <td>9.285700e+04</td>\n",
       "      <td>92857.000000</td>\n",
       "      <td>92857.000000</td>\n",
       "      <td>92857.000000</td>\n",
       "      <td>92857.000000</td>\n",
       "    </tr>\n",
       "    <tr>\n",
       "      <th>mean</th>\n",
       "      <td>46428.00000</td>\n",
       "      <td>4.365181e+07</td>\n",
       "      <td>2011.517958</td>\n",
       "      <td>7.517958</td>\n",
       "      <td>3441.122327</td>\n",
       "      <td>1952.956740</td>\n",
       "    </tr>\n",
       "    <tr>\n",
       "      <th>std</th>\n",
       "      <td>26805.65131</td>\n",
       "      <td>2.619007e+07</td>\n",
       "      <td>4.011222</td>\n",
       "      <td>4.011222</td>\n",
       "      <td>4176.324522</td>\n",
       "      <td>16.006065</td>\n",
       "    </tr>\n",
       "    <tr>\n",
       "      <th>min</th>\n",
       "      <td>0.00000</td>\n",
       "      <td>1.010100e+04</td>\n",
       "      <td>2005.000000</td>\n",
       "      <td>1.000000</td>\n",
       "      <td>-232174.000000</td>\n",
       "      <td>1910.000000</td>\n",
       "    </tr>\n",
       "    <tr>\n",
       "      <th>25%</th>\n",
       "      <td>23214.00000</td>\n",
       "      <td>2.177120e+07</td>\n",
       "      <td>2008.000000</td>\n",
       "      <td>4.000000</td>\n",
       "      <td>1140.000000</td>\n",
       "      <td>1939.000000</td>\n",
       "    </tr>\n",
       "    <tr>\n",
       "      <th>50%</th>\n",
       "      <td>46428.00000</td>\n",
       "      <td>4.322010e+07</td>\n",
       "      <td>2012.000000</td>\n",
       "      <td>8.000000</td>\n",
       "      <td>2428.000000</td>\n",
       "      <td>1952.000000</td>\n",
       "    </tr>\n",
       "    <tr>\n",
       "      <th>75%</th>\n",
       "      <td>69642.00000</td>\n",
       "      <td>6.190030e+07</td>\n",
       "      <td>2015.000000</td>\n",
       "      <td>11.000000</td>\n",
       "      <td>4695.000000</td>\n",
       "      <td>1966.000000</td>\n",
       "    </tr>\n",
       "    <tr>\n",
       "      <th>max</th>\n",
       "      <td>92856.00000</td>\n",
       "      <td>9.800070e+07</td>\n",
       "      <td>2018.000000</td>\n",
       "      <td>14.000000</td>\n",
       "      <td>468209.000000</td>\n",
       "      <td>2002.000000</td>\n",
       "    </tr>\n",
       "  </tbody>\n",
       "</table>\n",
       "</div>"
      ],
      "text/plain": [
       "        Unnamed: 0           癤퓁d          year          wave         income  \\\n",
       "count  92857.00000  9.285700e+04  92857.000000  92857.000000   92857.000000   \n",
       "mean   46428.00000  4.365181e+07   2011.517958      7.517958    3441.122327   \n",
       "std    26805.65131  2.619007e+07      4.011222      4.011222    4176.324522   \n",
       "min        0.00000  1.010100e+04   2005.000000      1.000000 -232174.000000   \n",
       "25%    23214.00000  2.177120e+07   2008.000000      4.000000    1140.000000   \n",
       "50%    46428.00000  4.322010e+07   2012.000000      8.000000    2428.000000   \n",
       "75%    69642.00000  6.190030e+07   2015.000000     11.000000    4695.000000   \n",
       "max    92856.00000  9.800070e+07   2018.000000     14.000000  468209.000000   \n",
       "\n",
       "          year_born  \n",
       "count  92857.000000  \n",
       "mean    1952.956740  \n",
       "std       16.006065  \n",
       "min     1910.000000  \n",
       "25%     1939.000000  \n",
       "50%     1952.000000  \n",
       "75%     1966.000000  \n",
       "max     2002.000000  "
      ]
     },
     "execution_count": 16,
     "metadata": {},
     "output_type": "execute_result"
    }
   ],
   "source": [
    "#연속형 변수의 기술통계\n",
    "df.describe()"
   ]
  },
  {
   "cell_type": "markdown",
   "metadata": {},
   "source": [
    "## 3. 데이터 클린징"
   ]
  },
  {
   "cell_type": "markdown",
   "metadata": {},
   "source": [
    "### 결측 데이터 확인"
   ]
  },
  {
   "cell_type": "code",
   "execution_count": 17,
   "metadata": {},
   "outputs": [
    {
     "data": {
      "text/plain": [
       "Unnamed: 0            0\n",
       "癤퓁d                   0\n",
       "year                  0\n",
       "wave                  0\n",
       "region                0\n",
       "income                0\n",
       "family_member         0\n",
       "gender                0\n",
       "year_born             0\n",
       "education_level       0\n",
       "marriage              0\n",
       "religion              0\n",
       "occupation            0\n",
       "company_size          0\n",
       "reason_none_worker    0\n",
       "dtype: int64"
      ]
     },
     "execution_count": 17,
     "metadata": {},
     "output_type": "execute_result"
    }
   ],
   "source": [
    "df.isnull().sum() #결측값 개수"
   ]
  },
  {
   "cell_type": "markdown",
   "metadata": {},
   "source": [
    "결측 데이터가 없는 것을 확인할 수 있다."
   ]
  },
  {
   "cell_type": "code",
   "execution_count": 18,
   "metadata": {
    "scrolled": true
   },
   "outputs": [
    {
     "data": {
      "image/png": "[encoded data removed]",
      "text/plain": [
       "<Figure size 432x288 with 1 Axes>"
      ]
     },
     "metadata": {
      "needs_background": "light"
     },
     "output_type": "display_data"
    },
    {
     "data": {
      "image/png": "[encoded data removed]",
      "text/plain": [
       "<Figure size 432x288 with 1 Axes>"
      ]
     },
     "metadata": {
      "needs_background": "light"
     },
     "output_type": "display_data"
    },
    {
     "name": "stderr",
     "output_type": "stream",
     "text": [
      "C:\\Users\\willk\\anaconda3\\lib\\site-packages\\matplotlib\\backends\\backend_agg.py:211: RuntimeWarning: Glyph 8722 missing from current font.\n",
      "  font.set_text(s, 0.0, flags=flags)\n",
      "C:\\Users\\willk\\anaconda3\\lib\\site-packages\\matplotlib\\backends\\backend_agg.py:180: RuntimeWarning: Glyph 8722 missing from current font.\n",
      "  font.set_text(s, 0, flags=flags)\n"
     ]
    },
    {
     "data": {
      "image/png": "[encoded data removed]",
      "text/plain": [
       "<Figure size 432x288 with 1 Axes>"
      ]
     },
     "metadata": {
      "needs_background": "light"
     },
     "output_type": "display_data"
    },
    {
     "data": {
      "image/png": "[encoded data removed]",
      "text/plain": [
       "<Figure size 432x288 with 1 Axes>"
      ]
     },
     "metadata": {
      "needs_background": "light"
     },
     "output_type": "display_data"
    }
   ],
   "source": [
    "import matplotlib as mpl    \n",
    "import matplotlib.pylab as plt   \n",
    "\n",
    "plt.boxplot(df['year'])\n",
    "plt.show()\n",
    "plt.boxplot(df['wave'])\n",
    "plt.show()\n",
    "plt.boxplot(df['income'])\n",
    "plt.show()\n",
    "plt.boxplot(df['year_born'])\n",
    "plt.show()"
   ]
  },
  {
   "cell_type": "markdown",
   "metadata": {},
   "source": [
    "박스플롯을 통해 이상치 데이터가 존재하는지 확인"
   ]
  },
  {
   "cell_type": "markdown",
   "metadata": {},
   "source": [
    "데이터를 박스플롯으로 확인한 결과 데이터들을 보면 **income(소득)** 데이터의 일부가 다른 데이터들보다 현저히 작거나 현저히 큰 값을 가지고 있는 것을 확인할 수 있었다. <br/>\n",
    "위 데이터 에서는 그 값을 제거하고 진행하기로 하였다.<br/>\n",
    "income 데이터 제거 기준: 2000000이상 또는 -100000 이하<br/>"
   ]
  },
  {
   "cell_type": "markdown",
   "metadata": {},
   "source": [
    "### 이상 데이터 제거"
   ]
  },
  {
   "cell_type": "code",
   "execution_count": 19,
   "metadata": {},
   "outputs": [],
   "source": [
    "#income 이상 데이터 제거\n",
    "df = df[(df[\"income\"] < 2000000) & (df[\"income\"] > -100000)]"
   ]
  },
  {
   "cell_type": "markdown",
   "metadata": {},
   "source": [
    "**데이터 보기**에서 이상 데이터들이 확인되었기 때문에 marriage 변수는 기타 항목으로 대체, religion 변수는 종교 없음 항목으로 대체, reason_none_worker 변수는 기타 항목으로 대체하기로 했다."
   ]
  },
  {
   "cell_type": "markdown",
   "metadata": {},
   "source": [
    "### 이상 데이터 대체"
   ]
  },
  {
   "cell_type": "code",
   "execution_count": 20,
   "metadata": {},
   "outputs": [
    {
     "name": "stderr",
     "output_type": "stream",
     "text": [
      "C:\\Users\\willk\\anaconda3\\lib\\site-packages\\pandas\\core\\indexing.py:966: SettingWithCopyWarning: \n",
      "A value is trying to be set on a copy of a slice from a DataFrame.\n",
      "Try using .loc[row_indexer,col_indexer] = value instead\n",
      "\n",
      "See the caveats in the documentation: https://pandas.pydata.org/pandas-docs/stable/user_guide/indexing.html#returning-a-view-versus-a-copy\n",
      "  self.obj[item] = s\n"
     ]
    }
   ],
   "source": [
    "#marriage의 이상 데이터 리스트\n",
    "list = df[(df[\"marriage\"] == 9)].index\n",
    "#marriage의 이상 데이터를 기타 항목인 6으로 초기화\n",
    "df.loc[list,\"marriage\"] = 6\n",
    "#religion 이상 데이터 리스트\n",
    "list = df[(df[\"religion\"] == 9)].index\n",
    "#religion 이상 데이터를 기타 항목인 6으로 초기화\n",
    "df.loc[list,\"religion\"] = 2"
   ]
  },
  {
   "cell_type": "markdown",
   "metadata": {},
   "source": [
    "### 중복 데이터"
   ]
  },
  {
   "cell_type": "code",
   "execution_count": 21,
   "metadata": {},
   "outputs": [
    {
     "data": {
      "text/html": [
       "<div>\n",
       "<style scoped>\n",
       "    .dataframe tbody tr th:only-of-type {\n",
       "        vertical-align: middle;\n",
       "    }\n",
       "\n",
       "    .dataframe tbody tr th {\n",
       "        vertical-align: top;\n",
       "    }\n",
       "\n",
       "    .dataframe thead th {\n",
       "        text-align: right;\n",
       "    }\n",
       "</style>\n",
       "<table border=\"1\" class=\"dataframe\">\n",
       "  <thead>\n",
       "    <tr style=\"text-align: right;\">\n",
       "      <th></th>\n",
       "      <th>Unnamed: 0</th>\n",
       "      <th>癤퓁d</th>\n",
       "      <th>year</th>\n",
       "      <th>wave</th>\n",
       "      <th>region</th>\n",
       "      <th>income</th>\n",
       "      <th>family_member</th>\n",
       "      <th>gender</th>\n",
       "      <th>year_born</th>\n",
       "      <th>education_level</th>\n",
       "      <th>marriage</th>\n",
       "      <th>religion</th>\n",
       "      <th>occupation</th>\n",
       "      <th>company_size</th>\n",
       "      <th>reason_none_worker</th>\n",
       "    </tr>\n",
       "  </thead>\n",
       "  <tbody>\n",
       "  </tbody>\n",
       "</table>\n",
       "</div>"
      ],
      "text/plain": [
       "Empty DataFrame\n",
       "Columns: [Unnamed: 0, 癤퓁d, year, wave, region, income, family_member, gender, year_born, education_level, marriage, religion, occupation, company_size, reason_none_worker]\n",
       "Index: []"
      ]
     },
     "metadata": {},
     "output_type": "display_data"
    }
   ],
   "source": [
    "#중복 데이터가 있는지 확인\n",
    "#keep 을 False로 하여 모든 중복 데이터를 출력함\n",
    "display(df[df.duplicated()])"
   ]
  },
  {
   "cell_type": "markdown",
   "metadata": {},
   "source": [
    "중복 데이터 확인 결과 중복 데이터가 없음을 알 수 있다."
   ]
  },
  {
   "cell_type": "markdown",
   "metadata": {},
   "source": [
    "## 4. 데이터 탐색"
   ]
  },
  {
   "cell_type": "markdown",
   "metadata": {},
   "source": [
    "### 파생변수 만들기"
   ]
  },
  {
   "cell_type": "markdown",
   "metadata": {},
   "source": [
    "**year**에서 **year_born**을 빼면 소득을 몇 세에 조사했는지 알 수 있다. 따라서 **year-year_born**을 통해 **cur_year**이라는 파생변수를 만들기로 했다.<br/>\n",
    "이로써 나이에 따른 소득을 알아볼 수 있게 되었다."
   ]
  },
  {
   "cell_type": "code",
   "execution_count": 22,
   "metadata": {},
   "outputs": [
    {
     "name": "stderr",
     "output_type": "stream",
     "text": [
      "C:\\Users\\willk\\anaconda3\\lib\\site-packages\\ipykernel_launcher.py:2: SettingWithCopyWarning: \n",
      "A value is trying to be set on a copy of a slice from a DataFrame.\n",
      "Try using .loc[row_indexer,col_indexer] = value instead\n",
      "\n",
      "See the caveats in the documentation: https://pandas.pydata.org/pandas-docs/stable/user_guide/indexing.html#returning-a-view-versus-a-copy\n",
      "  \n"
     ]
    },
    {
     "data": {
      "text/html": [
       "<div>\n",
       "<style scoped>\n",
       "    .dataframe tbody tr th:only-of-type {\n",
       "        vertical-align: middle;\n",
       "    }\n",
       "\n",
       "    .dataframe tbody tr th {\n",
       "        vertical-align: top;\n",
       "    }\n",
       "\n",
       "    .dataframe thead th {\n",
       "        text-align: right;\n",
       "    }\n",
       "</style>\n",
       "<table border=\"1\" class=\"dataframe\">\n",
       "  <thead>\n",
       "    <tr style=\"text-align: right;\">\n",
       "      <th></th>\n",
       "      <th>Unnamed: 0</th>\n",
       "      <th>癤퓁d</th>\n",
       "      <th>year</th>\n",
       "      <th>wave</th>\n",
       "      <th>region</th>\n",
       "      <th>income</th>\n",
       "      <th>family_member</th>\n",
       "      <th>gender</th>\n",
       "      <th>year_born</th>\n",
       "      <th>education_level</th>\n",
       "      <th>marriage</th>\n",
       "      <th>religion</th>\n",
       "      <th>occupation</th>\n",
       "      <th>company_size</th>\n",
       "      <th>reason_none_worker</th>\n",
       "      <th>cur_year</th>\n",
       "    </tr>\n",
       "  </thead>\n",
       "  <tbody>\n",
       "    <tr>\n",
       "      <th>0</th>\n",
       "      <td>0</td>\n",
       "      <td>10101</td>\n",
       "      <td>2005</td>\n",
       "      <td>1</td>\n",
       "      <td>1</td>\n",
       "      <td>614.0</td>\n",
       "      <td>1</td>\n",
       "      <td>2</td>\n",
       "      <td>1936</td>\n",
       "      <td>2</td>\n",
       "      <td>2</td>\n",
       "      <td>2</td>\n",
       "      <td></td>\n",
       "      <td></td>\n",
       "      <td>8</td>\n",
       "      <td>69</td>\n",
       "    </tr>\n",
       "    <tr>\n",
       "      <th>1</th>\n",
       "      <td>1</td>\n",
       "      <td>10101</td>\n",
       "      <td>2011</td>\n",
       "      <td>7</td>\n",
       "      <td>1</td>\n",
       "      <td>896.0</td>\n",
       "      <td>1</td>\n",
       "      <td>2</td>\n",
       "      <td>1936</td>\n",
       "      <td>2</td>\n",
       "      <td>2</td>\n",
       "      <td>2</td>\n",
       "      <td></td>\n",
       "      <td></td>\n",
       "      <td>10</td>\n",
       "      <td>75</td>\n",
       "    </tr>\n",
       "    <tr>\n",
       "      <th>2</th>\n",
       "      <td>2</td>\n",
       "      <td>10101</td>\n",
       "      <td>2012</td>\n",
       "      <td>8</td>\n",
       "      <td>1</td>\n",
       "      <td>1310.0</td>\n",
       "      <td>1</td>\n",
       "      <td>2</td>\n",
       "      <td>1936</td>\n",
       "      <td>2</td>\n",
       "      <td>2</td>\n",
       "      <td>2</td>\n",
       "      <td></td>\n",
       "      <td></td>\n",
       "      <td>10</td>\n",
       "      <td>76</td>\n",
       "    </tr>\n",
       "    <tr>\n",
       "      <th>3</th>\n",
       "      <td>3</td>\n",
       "      <td>10101</td>\n",
       "      <td>2013</td>\n",
       "      <td>9</td>\n",
       "      <td>1</td>\n",
       "      <td>2208.0</td>\n",
       "      <td>1</td>\n",
       "      <td>2</td>\n",
       "      <td>1936</td>\n",
       "      <td>2</td>\n",
       "      <td>2</td>\n",
       "      <td>2</td>\n",
       "      <td></td>\n",
       "      <td></td>\n",
       "      <td>1</td>\n",
       "      <td>77</td>\n",
       "    </tr>\n",
       "    <tr>\n",
       "      <th>4</th>\n",
       "      <td>4</td>\n",
       "      <td>10101</td>\n",
       "      <td>2014</td>\n",
       "      <td>10</td>\n",
       "      <td>1</td>\n",
       "      <td>864.0</td>\n",
       "      <td>1</td>\n",
       "      <td>2</td>\n",
       "      <td>1936</td>\n",
       "      <td>2</td>\n",
       "      <td>2</td>\n",
       "      <td>2</td>\n",
       "      <td></td>\n",
       "      <td></td>\n",
       "      <td>10</td>\n",
       "      <td>78</td>\n",
       "    </tr>\n",
       "    <tr>\n",
       "      <th>...</th>\n",
       "      <td>...</td>\n",
       "      <td>...</td>\n",
       "      <td>...</td>\n",
       "      <td>...</td>\n",
       "      <td>...</td>\n",
       "      <td>...</td>\n",
       "      <td>...</td>\n",
       "      <td>...</td>\n",
       "      <td>...</td>\n",
       "      <td>...</td>\n",
       "      <td>...</td>\n",
       "      <td>...</td>\n",
       "      <td>...</td>\n",
       "      <td>...</td>\n",
       "      <td>...</td>\n",
       "      <td>...</td>\n",
       "    </tr>\n",
       "    <tr>\n",
       "      <th>92852</th>\n",
       "      <td>92852</td>\n",
       "      <td>98000701</td>\n",
       "      <td>2014</td>\n",
       "      <td>10</td>\n",
       "      <td>5</td>\n",
       "      <td>11600.0</td>\n",
       "      <td>6</td>\n",
       "      <td>1</td>\n",
       "      <td>1967</td>\n",
       "      <td>5</td>\n",
       "      <td>1</td>\n",
       "      <td>1</td>\n",
       "      <td>874</td>\n",
       "      <td>1</td>\n",
       "      <td></td>\n",
       "      <td>47</td>\n",
       "    </tr>\n",
       "    <tr>\n",
       "      <th>92853</th>\n",
       "      <td>92853</td>\n",
       "      <td>98000701</td>\n",
       "      <td>2015</td>\n",
       "      <td>11</td>\n",
       "      <td>5</td>\n",
       "      <td>8327.0</td>\n",
       "      <td>6</td>\n",
       "      <td>1</td>\n",
       "      <td>1967</td>\n",
       "      <td>5</td>\n",
       "      <td>1</td>\n",
       "      <td>1</td>\n",
       "      <td>874</td>\n",
       "      <td>1</td>\n",
       "      <td></td>\n",
       "      <td>48</td>\n",
       "    </tr>\n",
       "    <tr>\n",
       "      <th>92854</th>\n",
       "      <td>92854</td>\n",
       "      <td>98000701</td>\n",
       "      <td>2016</td>\n",
       "      <td>12</td>\n",
       "      <td>5</td>\n",
       "      <td>7931.0</td>\n",
       "      <td>6</td>\n",
       "      <td>1</td>\n",
       "      <td>1967</td>\n",
       "      <td>5</td>\n",
       "      <td>1</td>\n",
       "      <td>1</td>\n",
       "      <td>874</td>\n",
       "      <td>1</td>\n",
       "      <td></td>\n",
       "      <td>49</td>\n",
       "    </tr>\n",
       "    <tr>\n",
       "      <th>92855</th>\n",
       "      <td>92855</td>\n",
       "      <td>98000701</td>\n",
       "      <td>2017</td>\n",
       "      <td>13</td>\n",
       "      <td>5</td>\n",
       "      <td>8802.0</td>\n",
       "      <td>5</td>\n",
       "      <td>1</td>\n",
       "      <td>1967</td>\n",
       "      <td>5</td>\n",
       "      <td>1</td>\n",
       "      <td>1</td>\n",
       "      <td>874</td>\n",
       "      <td>1</td>\n",
       "      <td></td>\n",
       "      <td>50</td>\n",
       "    </tr>\n",
       "    <tr>\n",
       "      <th>92856</th>\n",
       "      <td>92856</td>\n",
       "      <td>98000701</td>\n",
       "      <td>2018</td>\n",
       "      <td>14</td>\n",
       "      <td>5</td>\n",
       "      <td>6747.0</td>\n",
       "      <td>6</td>\n",
       "      <td>1</td>\n",
       "      <td>1967</td>\n",
       "      <td>5</td>\n",
       "      <td>1</td>\n",
       "      <td>1</td>\n",
       "      <td>874</td>\n",
       "      <td>1</td>\n",
       "      <td></td>\n",
       "      <td>51</td>\n",
       "    </tr>\n",
       "  </tbody>\n",
       "</table>\n",
       "<p>92856 rows × 16 columns</p>\n",
       "</div>"
      ],
      "text/plain": [
       "       Unnamed: 0       癤퓁d  year  wave region   income family_member gender  \\\n",
       "0               0     10101  2005     1      1    614.0             1      2   \n",
       "1               1     10101  2011     7      1    896.0             1      2   \n",
       "2               2     10101  2012     8      1   1310.0             1      2   \n",
       "3               3     10101  2013     9      1   2208.0             1      2   \n",
       "4               4     10101  2014    10      1    864.0             1      2   \n",
       "...           ...       ...   ...   ...    ...      ...           ...    ...   \n",
       "92852       92852  98000701  2014    10      5  11600.0             6      1   \n",
       "92853       92853  98000701  2015    11      5   8327.0             6      1   \n",
       "92854       92854  98000701  2016    12      5   7931.0             6      1   \n",
       "92855       92855  98000701  2017    13      5   8802.0             5      1   \n",
       "92856       92856  98000701  2018    14      5   6747.0             6      1   \n",
       "\n",
       "       year_born education_level marriage religion occupation company_size  \\\n",
       "0           1936               2        2        2                           \n",
       "1           1936               2        2        2                           \n",
       "2           1936               2        2        2                           \n",
       "3           1936               2        2        2                           \n",
       "4           1936               2        2        2                           \n",
       "...          ...             ...      ...      ...        ...          ...   \n",
       "92852       1967               5        1        1        874            1   \n",
       "92853       1967               5        1        1        874            1   \n",
       "92854       1967               5        1        1        874            1   \n",
       "92855       1967               5        1        1        874            1   \n",
       "92856       1967               5        1        1        874            1   \n",
       "\n",
       "      reason_none_worker  cur_year  \n",
       "0                      8        69  \n",
       "1                     10        75  \n",
       "2                     10        76  \n",
       "3                      1        77  \n",
       "4                     10        78  \n",
       "...                  ...       ...  \n",
       "92852                           47  \n",
       "92853                           48  \n",
       "92854                           49  \n",
       "92855                           50  \n",
       "92856                           51  \n",
       "\n",
       "[92856 rows x 16 columns]"
      ]
     },
     "execution_count": 22,
     "metadata": {},
     "output_type": "execute_result"
    }
   ],
   "source": [
    "#파생변수 만들기\n",
    "df['cur_year'] = df['year'] - df['year_born']\n",
    "df"
   ]
  },
  {
   "cell_type": "markdown",
   "metadata": {},
   "source": [
    "파생변수 데이터 **시각화 분석**<br/>\n",
    "**연속형 변수**인 종사자들의 현재 나이를 시각적으로 분석해 보았다."
   ]
  },
  {
   "cell_type": "code",
   "execution_count": 23,
   "metadata": {},
   "outputs": [
    {
     "data": {
      "image/png": "[encoded data removed]",
      "text/plain": [
       "<Figure size 432x288 with 1 Axes>"
      ]
     },
     "metadata": {
      "needs_background": "light"
     },
     "output_type": "display_data"
    }
   ],
   "source": [
    "sns.distplot(df['cur_year'])\n",
    "plt.title(\"cur_year 파생변수 분석\")\n",
    "plt.show()"
   ]
  },
  {
   "cell_type": "markdown",
   "metadata": {},
   "source": [
    "연령대별로 골고루 분포가 되어있는 것 같았다. 하지만 예상 외로 60대 이후의 종사자들이 많았다.<br/>\n",
    "이는 **데이터 시각화 부분**에서 분석하기로 하였다."
   ]
  },
  {
   "cell_type": "markdown",
   "metadata": {},
   "source": [
    "### 데이터 그룹 분석"
   ]
  },
  {
   "cell_type": "markdown",
   "metadata": {},
   "source": [
    "데이터에 범주형 변수가 많기 때문에 몇몇 변수를 그룹으로 구분하여 알아보고 싶었다."
   ]
  },
  {
   "cell_type": "code",
   "execution_count": 24,
   "metadata": {},
   "outputs": [
    {
     "name": "stderr",
     "output_type": "stream",
     "text": [
      "C:\\Users\\willk\\anaconda3\\lib\\site-packages\\ipykernel_launcher.py:2: SettingWithCopyWarning: \n",
      "A value is trying to be set on a copy of a slice from a DataFrame.\n",
      "Try using .loc[row_indexer,col_indexer] = value instead\n",
      "\n",
      "See the caveats in the documentation: https://pandas.pydata.org/pandas-docs/stable/user_guide/indexing.html#returning-a-view-versus-a-copy\n",
      "  \n"
     ]
    },
    {
     "data": {
      "text/plain": [
       "거주지역\n",
       "서울       14436\n",
       "경기       19353\n",
       "경남       16154\n",
       "경북       12205\n",
       "충남        7843\n",
       "강원&충북     6927\n",
       "전라&제주    15938\n",
       "dtype: int64"
      ]
     },
     "execution_count": 24,
     "metadata": {},
     "output_type": "execute_result"
    }
   ],
   "source": [
    "df2 = pd.cut(df[\"region\"], 7, labels=[\"서울\",\"경기\",\"경남\",\"경북\",\"충남\",\"강원&충북\",\"전라&제주\"])\n",
    "df[\"거주지역\"] = df2\n",
    "df.groupby(\"거주지역\").size()"
   ]
  },
  {
   "cell_type": "code",
   "execution_count": 25,
   "metadata": {},
   "outputs": [
    {
     "name": "stderr",
     "output_type": "stream",
     "text": [
      "C:\\Users\\willk\\anaconda3\\lib\\site-packages\\ipykernel_launcher.py:2: SettingWithCopyWarning: \n",
      "A value is trying to be set on a copy of a slice from a DataFrame.\n",
      "Try using .loc[row_indexer,col_indexer] = value instead\n",
      "\n",
      "See the caveats in the documentation: https://pandas.pydata.org/pandas-docs/stable/user_guide/indexing.html#returning-a-view-versus-a-copy\n",
      "  \n"
     ]
    },
    {
     "data": {
      "text/plain": [
       "성별\n",
       "남자    65341\n",
       "여자    27515\n",
       "dtype: int64"
      ]
     },
     "execution_count": 25,
     "metadata": {},
     "output_type": "execute_result"
    }
   ],
   "source": [
    "df2 = pd.cut(df[\"gender\"], 2, labels=[\"남자\",\"여자\"])\n",
    "df[\"성별\"] = df2\n",
    "df.groupby(\"성별\").size()"
   ]
  },
  {
   "cell_type": "code",
   "execution_count": 26,
   "metadata": {},
   "outputs": [
    {
     "name": "stderr",
     "output_type": "stream",
     "text": [
      "C:\\Users\\willk\\anaconda3\\lib\\site-packages\\ipykernel_launcher.py:2: SettingWithCopyWarning: \n",
      "A value is trying to be set on a copy of a slice from a DataFrame.\n",
      "Try using .loc[row_indexer,col_indexer] = value instead\n",
      "\n",
      "See the caveats in the documentation: https://pandas.pydata.org/pandas-docs/stable/user_guide/indexing.html#returning-a-view-versus-a-copy\n",
      "  \n"
     ]
    },
    {
     "data": {
      "text/plain": [
       "교육수준\n",
       "7세 미만의 학력    10858\n",
       "7세 이상의 학력    21149\n",
       "초등학교         12219\n",
       "중학교          26181\n",
       "고등학교             0\n",
       "대학교           5911\n",
       "대졸           14038\n",
       "석사            2221\n",
       "박사             279\n",
       "dtype: int64"
      ]
     },
     "execution_count": 26,
     "metadata": {},
     "output_type": "execute_result"
    }
   ],
   "source": [
    "df2 = pd.cut(df[\"education_level\"], 9, labels=[\"7세 미만의 학력\",\"7세 이상의 학력\",\"초등학교\",\"중학교\",\"고등학교\",\"대학교\",\"대졸\",\"석사\",\"박사\"])\n",
    "df[\"교육수준\"] = df2\n",
    "df.groupby(\"교육수준\").size()"
   ]
  },
  {
   "cell_type": "markdown",
   "metadata": {},
   "source": [
    "관심이 있던 범주형 변수들 **거주지, 성별, 교육수준** 변수를 그룹핑해서 **피봇 데이블로 비교**해 보기로 하였다"
   ]
  },
  {
   "cell_type": "code",
   "execution_count": 27,
   "metadata": {},
   "outputs": [
    {
     "data": {
      "text/html": [
       "<div>\n",
       "<style scoped>\n",
       "    .dataframe tbody tr th:only-of-type {\n",
       "        vertical-align: middle;\n",
       "    }\n",
       "\n",
       "    .dataframe tbody tr th {\n",
       "        vertical-align: top;\n",
       "    }\n",
       "\n",
       "    .dataframe thead th {\n",
       "        text-align: right;\n",
       "    }\n",
       "</style>\n",
       "<table border=\"1\" class=\"dataframe\">\n",
       "  <thead>\n",
       "    <tr style=\"text-align: right;\">\n",
       "      <th>성별</th>\n",
       "      <th>남자</th>\n",
       "      <th>여자</th>\n",
       "    </tr>\n",
       "    <tr>\n",
       "      <th>거주지역</th>\n",
       "      <th></th>\n",
       "      <th></th>\n",
       "    </tr>\n",
       "  </thead>\n",
       "  <tbody>\n",
       "    <tr>\n",
       "      <th>서울</th>\n",
       "      <td>4777.946165</td>\n",
       "      <td>2240.489943</td>\n",
       "    </tr>\n",
       "    <tr>\n",
       "      <th>경기</th>\n",
       "      <td>4536.130907</td>\n",
       "      <td>1947.655713</td>\n",
       "    </tr>\n",
       "    <tr>\n",
       "      <th>경남</th>\n",
       "      <td>4296.158176</td>\n",
       "      <td>1548.592323</td>\n",
       "    </tr>\n",
       "    <tr>\n",
       "      <th>경북</th>\n",
       "      <td>3520.264810</td>\n",
       "      <td>1340.184838</td>\n",
       "    </tr>\n",
       "    <tr>\n",
       "      <th>충남</th>\n",
       "      <td>4513.813778</td>\n",
       "      <td>1559.706479</td>\n",
       "    </tr>\n",
       "    <tr>\n",
       "      <th>강원&amp;충북</th>\n",
       "      <td>3628.403389</td>\n",
       "      <td>1550.598793</td>\n",
       "    </tr>\n",
       "    <tr>\n",
       "      <th>전라&amp;제주</th>\n",
       "      <td>3684.894055</td>\n",
       "      <td>1331.019448</td>\n",
       "    </tr>\n",
       "  </tbody>\n",
       "</table>\n",
       "</div>"
      ],
      "text/plain": [
       "성별              남자           여자\n",
       "거주지역                           \n",
       "서울     4777.946165  2240.489943\n",
       "경기     4536.130907  1947.655713\n",
       "경남     4296.158176  1548.592323\n",
       "경북     3520.264810  1340.184838\n",
       "충남     4513.813778  1559.706479\n",
       "강원&충북  3628.403389  1550.598793\n",
       "전라&제주  3684.894055  1331.019448"
      ]
     },
     "execution_count": 27,
     "metadata": {},
     "output_type": "execute_result"
    }
   ],
   "source": [
    "df.pivot_table(index='거주지역', columns='성별', values='income')"
   ]
  },
  {
   "cell_type": "code",
   "execution_count": 28,
   "metadata": {},
   "outputs": [
    {
     "data": {
      "image/png": "[encoded data removed]",
      "text/plain": [
       "<Figure size 432x288 with 1 Axes>"
      ]
     },
     "metadata": {
      "needs_background": "light"
     },
     "output_type": "display_data"
    }
   ],
   "source": [
    "sns.barplot(x=\"성별\", y=\"income\", hue=\"거주지역\", data=df)\n",
    "plt.title(\"거주지역과 성별에 따른 소득\")\n",
    "plt.show()"
   ]
  },
  {
   "cell_type": "markdown",
   "metadata": {},
   "source": [
    "서울, 경기 지역의 소득이 전반적으로 높은 것을 확인할 수 있다."
   ]
  },
  {
   "cell_type": "code",
   "execution_count": 29,
   "metadata": {},
   "outputs": [
    {
     "data": {
      "text/html": [
       "<div>\n",
       "<style scoped>\n",
       "    .dataframe tbody tr th:only-of-type {\n",
       "        vertical-align: middle;\n",
       "    }\n",
       "\n",
       "    .dataframe tbody tr th {\n",
       "        vertical-align: top;\n",
       "    }\n",
       "\n",
       "    .dataframe thead th {\n",
       "        text-align: right;\n",
       "    }\n",
       "</style>\n",
       "<table border=\"1\" class=\"dataframe\">\n",
       "  <thead>\n",
       "    <tr style=\"text-align: right;\">\n",
       "      <th>성별</th>\n",
       "      <th>남자</th>\n",
       "      <th>여자</th>\n",
       "    </tr>\n",
       "    <tr>\n",
       "      <th>교육수준</th>\n",
       "      <th></th>\n",
       "      <th></th>\n",
       "    </tr>\n",
       "  </thead>\n",
       "  <tbody>\n",
       "    <tr>\n",
       "      <th>7세 미만의 학력</th>\n",
       "      <td>1460.913140</td>\n",
       "      <td>926.745608</td>\n",
       "    </tr>\n",
       "    <tr>\n",
       "      <th>7세 이상의 학력</th>\n",
       "      <td>2147.928659</td>\n",
       "      <td>1372.412121</td>\n",
       "    </tr>\n",
       "    <tr>\n",
       "      <th>초등학교</th>\n",
       "      <td>2965.431160</td>\n",
       "      <td>2010.596318</td>\n",
       "    </tr>\n",
       "    <tr>\n",
       "      <th>중학교</th>\n",
       "      <td>4420.046807</td>\n",
       "      <td>2546.807816</td>\n",
       "    </tr>\n",
       "    <tr>\n",
       "      <th>대학교</th>\n",
       "      <td>5231.827504</td>\n",
       "      <td>2998.416667</td>\n",
       "    </tr>\n",
       "    <tr>\n",
       "      <th>대졸</th>\n",
       "      <td>6140.894065</td>\n",
       "      <td>3248.528904</td>\n",
       "    </tr>\n",
       "    <tr>\n",
       "      <th>석사</th>\n",
       "      <td>6974.236981</td>\n",
       "      <td>4194.128000</td>\n",
       "    </tr>\n",
       "    <tr>\n",
       "      <th>박사</th>\n",
       "      <td>9725.527426</td>\n",
       "      <td>5379.904762</td>\n",
       "    </tr>\n",
       "  </tbody>\n",
       "</table>\n",
       "</div>"
      ],
      "text/plain": [
       "성별                  남자           여자\n",
       "교육수준                               \n",
       "7세 미만의 학력  1460.913140   926.745608\n",
       "7세 이상의 학력  2147.928659  1372.412121\n",
       "초등학교       2965.431160  2010.596318\n",
       "중학교        4420.046807  2546.807816\n",
       "대학교        5231.827504  2998.416667\n",
       "대졸         6140.894065  3248.528904\n",
       "석사         6974.236981  4194.128000\n",
       "박사         9725.527426  5379.904762"
      ]
     },
     "execution_count": 29,
     "metadata": {},
     "output_type": "execute_result"
    }
   ],
   "source": [
    "df.pivot_table(index='교육수준', columns='성별', values='income') "
   ]
  },
  {
   "cell_type": "code",
   "execution_count": 30,
   "metadata": {},
   "outputs": [
    {
     "data": {
      "image/png": "[encoded data removed]",
      "text/plain": [
       "<Figure size 432x288 with 1 Axes>"
      ]
     },
     "metadata": {
      "needs_background": "light"
     },
     "output_type": "display_data"
    }
   ],
   "source": [
    "sns.barplot(x=\"성별\", y=\"income\", hue=\"교육수준\", data=df)\n",
    "plt.title(\"교육수준과 성별에 따른 소득\")\n",
    "plt.show()"
   ]
  },
  {
   "cell_type": "markdown",
   "metadata": {},
   "source": [
    "학력이 높을수록 소득이 점점 높아지는 것을 확인할 수 있다."
   ]
  },
  {
   "cell_type": "markdown",
   "metadata": {},
   "source": [
    "위 피봇 테이블의 시각화를 통해서 전체적으로 2005 ~ 2018년에는 여성보다 남성의 소득이 높았던 것으로 확인할 수 있었다.<br/>\n",
    "국가에서 **성별 간 소득의 격차를 줄이기 위한 노력을 했던 이유**가 통계에서 드러났다고 생각했다."
   ]
  },
  {
   "cell_type": "markdown",
   "metadata": {},
   "source": [
    "**교육수준**에 따른 **소득**을 알고 싶어졌다."
   ]
  },
  {
   "cell_type": "code",
   "execution_count": 31,
   "metadata": {},
   "outputs": [
    {
     "data": {
      "text/plain": [
       "교육수준\n",
       "7세 미만의 학력    1.145144e+07\n",
       "7세 이상의 학력    3.799012e+07\n",
       "초등학교         3.311516e+07\n",
       "중학교          1.081627e+08\n",
       "고등학교         0.000000e+00\n",
       "대학교          2.888846e+07\n",
       "대졸           8.248340e+07\n",
       "석사           1.514227e+07\n",
       "박사           2.530906e+06\n",
       "Name: income, dtype: float64"
      ]
     },
     "execution_count": 31,
     "metadata": {},
     "output_type": "execute_result"
    }
   ],
   "source": [
    "df['income'].groupby(df['교육수준']).sum()"
   ]
  },
  {
   "cell_type": "markdown",
   "metadata": {},
   "source": [
    "교육수준과 성별에 따른 소득 그래프와는 사뭇 다른 결과가 나왔는데, 이는 **대졸자가 석/박사 숫자보다 압도적으로 많음**을 보여주는 사례라 할 수 있다."
   ]
  },
  {
   "cell_type": "markdown",
   "metadata": {},
   "source": [
    "## 6. 데이터 시각화"
   ]
  },
  {
   "cell_type": "markdown",
   "metadata": {},
   "source": [
    "**거주지역**별로 그룹화된 소득을 시각화 하고 싶었다."
   ]
  },
  {
   "cell_type": "code",
   "execution_count": 32,
   "metadata": {},
   "outputs": [
    {
     "data": {
      "text/html": [
       "<div>\n",
       "<style scoped>\n",
       "    .dataframe tbody tr th:only-of-type {\n",
       "        vertical-align: middle;\n",
       "    }\n",
       "\n",
       "    .dataframe tbody tr th {\n",
       "        vertical-align: top;\n",
       "    }\n",
       "\n",
       "    .dataframe thead th {\n",
       "        text-align: right;\n",
       "    }\n",
       "</style>\n",
       "<table border=\"1\" class=\"dataframe\">\n",
       "  <thead>\n",
       "    <tr style=\"text-align: right;\">\n",
       "      <th></th>\n",
       "      <th>거주지역</th>\n",
       "      <th>year</th>\n",
       "      <th>income</th>\n",
       "      <th>year_born</th>\n",
       "      <th>cur_year</th>\n",
       "      <th>population</th>\n",
       "    </tr>\n",
       "  </thead>\n",
       "  <tbody>\n",
       "    <tr>\n",
       "      <th>0</th>\n",
       "      <td>서울</td>\n",
       "      <td>2011.088529</td>\n",
       "      <td>4045.149339</td>\n",
       "      <td>1955.502217</td>\n",
       "      <td>55.586312</td>\n",
       "      <td>14436</td>\n",
       "    </tr>\n",
       "    <tr>\n",
       "      <th>1</th>\n",
       "      <td>경기</td>\n",
       "      <td>2011.420607</td>\n",
       "      <td>3907.235626</td>\n",
       "      <td>1956.021444</td>\n",
       "      <td>55.399163</td>\n",
       "      <td>19353</td>\n",
       "    </tr>\n",
       "    <tr>\n",
       "      <th>2</th>\n",
       "      <td>경남</td>\n",
       "      <td>2011.536585</td>\n",
       "      <td>3433.993306</td>\n",
       "      <td>1951.918410</td>\n",
       "      <td>59.618175</td>\n",
       "      <td>16154</td>\n",
       "    </tr>\n",
       "    <tr>\n",
       "      <th>3</th>\n",
       "      <td>경북</td>\n",
       "      <td>2011.515035</td>\n",
       "      <td>2771.124671</td>\n",
       "      <td>1949.582548</td>\n",
       "      <td>61.932487</td>\n",
       "      <td>12205</td>\n",
       "    </tr>\n",
       "    <tr>\n",
       "      <th>4</th>\n",
       "      <td>충남</td>\n",
       "      <td>2011.690680</td>\n",
       "      <td>3742.423781</td>\n",
       "      <td>1953.855412</td>\n",
       "      <td>57.835267</td>\n",
       "      <td>7843</td>\n",
       "    </tr>\n",
       "    <tr>\n",
       "      <th>5</th>\n",
       "      <td>강원&amp;충북</td>\n",
       "      <td>2011.844233</td>\n",
       "      <td>3081.881088</td>\n",
       "      <td>1951.820557</td>\n",
       "      <td>60.023675</td>\n",
       "      <td>6927</td>\n",
       "    </tr>\n",
       "    <tr>\n",
       "      <th>6</th>\n",
       "      <td>전라&amp;제주</td>\n",
       "      <td>2011.781340</td>\n",
       "      <td>2870.977443</td>\n",
       "      <td>1950.616326</td>\n",
       "      <td>61.165014</td>\n",
       "      <td>15938</td>\n",
       "    </tr>\n",
       "  </tbody>\n",
       "</table>\n",
       "</div>"
      ],
      "text/plain": [
       "    거주지역         year       income    year_born   cur_year  population\n",
       "0     서울  2011.088529  4045.149339  1955.502217  55.586312       14436\n",
       "1     경기  2011.420607  3907.235626  1956.021444  55.399163       19353\n",
       "2     경남  2011.536585  3433.993306  1951.918410  59.618175       16154\n",
       "3     경북  2011.515035  2771.124671  1949.582548  61.932487       12205\n",
       "4     충남  2011.690680  3742.423781  1953.855412  57.835267        7843\n",
       "5  강원&충북  2011.844233  3081.881088  1951.820557  60.023675        6927\n",
       "6  전라&제주  2011.781340  2870.977443  1950.616326  61.165014       15938"
      ]
     },
     "execution_count": 32,
     "metadata": {},
     "output_type": "execute_result"
    }
   ],
   "source": [
    "#거주지역별로 구분된 데이터프레임 df_region\n",
    "region_labeled = df.groupby(\"거주지역\")\n",
    "df_region = region_labeled.sum()\n",
    "df_region['year'] = region_labeled.mean()['year']\n",
    "df_region['income'] = region_labeled.mean()['income']\n",
    "df_region['year_born'] = region_labeled.mean()['year_born']\n",
    "df_region['cur_year'] = region_labeled.mean()['cur_year']\n",
    "df_region['population'] = region_labeled.size()#인구수\n",
    "del df_region['Unnamed: 0']\n",
    "del df_region['癤퓁d']\n",
    "del df_region['wave']\n",
    "df_region.reset_index(level=['거주지역'], inplace = True)\n",
    "df_region"
   ]
  },
  {
   "cell_type": "code",
   "execution_count": 33,
   "metadata": {},
   "outputs": [
    {
     "data": {
      "image/png": "[encoded data removed]",
      "text/plain": [
       "<Figure size 432x288 with 1 Axes>"
      ]
     },
     "metadata": {
      "needs_background": "light"
     },
     "output_type": "display_data"
    }
   ],
   "source": [
    "sns.stripplot(x='거주지역', y='income', data=df_region)\n",
    "plt.title(\"거주지역에 따른 소득\")\n",
    "plt.show()"
   ]
  },
  {
   "cell_type": "markdown",
   "metadata": {},
   "source": [
    "거주지역에 따른 소득을 **stripplot**으로 확인해 보았다.<br/>\n",
    "역시 **서울**이 압도적으로 소득이 높았고 **경기, 충남**까지는 소득이 높은 편이나 나머지 지역은 소득이 높지 않았다.<br/>\n",
    "이는 **지역간 양극화 현상**이 얼마나 심각한지 보여주는 사례라고 생각한다."
   ]
  },
  {
   "cell_type": "markdown",
   "metadata": {},
   "source": [
    "**파생변수 cur_year(현재 나이)** 별로 그룹화된 소득을 시각화 하고 싶었다."
   ]
  },
  {
   "cell_type": "code",
   "execution_count": 34,
   "metadata": {},
   "outputs": [
    {
     "data": {
      "text/html": [
       "<div>\n",
       "<style scoped>\n",
       "    .dataframe tbody tr th:only-of-type {\n",
       "        vertical-align: middle;\n",
       "    }\n",
       "\n",
       "    .dataframe tbody tr th {\n",
       "        vertical-align: top;\n",
       "    }\n",
       "\n",
       "    .dataframe thead th {\n",
       "        text-align: right;\n",
       "    }\n",
       "</style>\n",
       "<table border=\"1\" class=\"dataframe\">\n",
       "  <thead>\n",
       "    <tr style=\"text-align: right;\">\n",
       "      <th></th>\n",
       "      <th>cur_year</th>\n",
       "      <th>year</th>\n",
       "      <th>income</th>\n",
       "      <th>year_born</th>\n",
       "      <th>population</th>\n",
       "    </tr>\n",
       "  </thead>\n",
       "  <tbody>\n",
       "    <tr>\n",
       "      <th>0</th>\n",
       "      <td>11</td>\n",
       "      <td>2013.0</td>\n",
       "      <td>252.000000</td>\n",
       "      <td>2002.0</td>\n",
       "      <td>1</td>\n",
       "    </tr>\n",
       "    <tr>\n",
       "      <th>1</th>\n",
       "      <td>13</td>\n",
       "      <td>2005.0</td>\n",
       "      <td>185.000000</td>\n",
       "      <td>1992.0</td>\n",
       "      <td>1</td>\n",
       "    </tr>\n",
       "    <tr>\n",
       "      <th>2</th>\n",
       "      <td>14</td>\n",
       "      <td>2006.0</td>\n",
       "      <td>549.000000</td>\n",
       "      <td>1992.0</td>\n",
       "      <td>1</td>\n",
       "    </tr>\n",
       "    <tr>\n",
       "      <th>3</th>\n",
       "      <td>15</td>\n",
       "      <td>2007.0</td>\n",
       "      <td>728.000000</td>\n",
       "      <td>1992.0</td>\n",
       "      <td>1</td>\n",
       "    </tr>\n",
       "    <tr>\n",
       "      <th>4</th>\n",
       "      <td>16</td>\n",
       "      <td>2006.5</td>\n",
       "      <td>838.500000</td>\n",
       "      <td>1990.5</td>\n",
       "      <td>2</td>\n",
       "    </tr>\n",
       "    <tr>\n",
       "      <th>...</th>\n",
       "      <td>...</td>\n",
       "      <td>...</td>\n",
       "      <td>...</td>\n",
       "      <td>...</td>\n",
       "      <td>...</td>\n",
       "    </tr>\n",
       "    <tr>\n",
       "      <th>83</th>\n",
       "      <td>95</td>\n",
       "      <td>2013.7</td>\n",
       "      <td>1330.500000</td>\n",
       "      <td>1918.7</td>\n",
       "      <td>20</td>\n",
       "    </tr>\n",
       "    <tr>\n",
       "      <th>84</th>\n",
       "      <td>96</td>\n",
       "      <td>2014.0</td>\n",
       "      <td>988.833333</td>\n",
       "      <td>1918.0</td>\n",
       "      <td>12</td>\n",
       "    </tr>\n",
       "    <tr>\n",
       "      <th>85</th>\n",
       "      <td>97</td>\n",
       "      <td>2009.4</td>\n",
       "      <td>1245.600000</td>\n",
       "      <td>1912.4</td>\n",
       "      <td>5</td>\n",
       "    </tr>\n",
       "    <tr>\n",
       "      <th>86</th>\n",
       "      <td>98</td>\n",
       "      <td>2010.5</td>\n",
       "      <td>1093.500000</td>\n",
       "      <td>1912.5</td>\n",
       "      <td>4</td>\n",
       "    </tr>\n",
       "    <tr>\n",
       "      <th>87</th>\n",
       "      <td>99</td>\n",
       "      <td>2009.0</td>\n",
       "      <td>518.000000</td>\n",
       "      <td>1910.0</td>\n",
       "      <td>1</td>\n",
       "    </tr>\n",
       "  </tbody>\n",
       "</table>\n",
       "<p>88 rows × 5 columns</p>\n",
       "</div>"
      ],
      "text/plain": [
       "    cur_year    year       income  year_born  population\n",
       "0         11  2013.0   252.000000     2002.0           1\n",
       "1         13  2005.0   185.000000     1992.0           1\n",
       "2         14  2006.0   549.000000     1992.0           1\n",
       "3         15  2007.0   728.000000     1992.0           1\n",
       "4         16  2006.5   838.500000     1990.5           2\n",
       "..       ...     ...          ...        ...         ...\n",
       "83        95  2013.7  1330.500000     1918.7          20\n",
       "84        96  2014.0   988.833333     1918.0          12\n",
       "85        97  2009.4  1245.600000     1912.4           5\n",
       "86        98  2010.5  1093.500000     1912.5           4\n",
       "87        99  2009.0   518.000000     1910.0           1\n",
       "\n",
       "[88 rows x 5 columns]"
      ]
     },
     "execution_count": 34,
     "metadata": {},
     "output_type": "execute_result"
    }
   ],
   "source": [
    "#현재 나이로 구분된 데이터프레임 df_region\n",
    "cur_year_labeled = df.groupby(\"cur_year\")\n",
    "df_cur_year = cur_year_labeled.sum()\n",
    "df_cur_year['year'] = cur_year_labeled.mean()['year']\n",
    "df_cur_year['income'] = cur_year_labeled.mean()['income']\n",
    "df_cur_year['year_born'] = cur_year_labeled.mean()['year_born']\n",
    "df_cur_year['population'] = cur_year_labeled.size()#인구수\n",
    "del df_cur_year['Unnamed: 0']\n",
    "del df_cur_year['癤퓁d']\n",
    "del df_cur_year['wave']\n",
    "df_cur_year.reset_index(level=['cur_year'], inplace = True)\n",
    "df_cur_year"
   ]
  },
  {
   "cell_type": "markdown",
   "metadata": {},
   "source": [
    "88개의 많은 행 데이터가 있기 때문에 약 10살 단위로 **데이터 구간화**를 실행하였다."
   ]
  },
  {
   "cell_type": "code",
   "execution_count": 35,
   "metadata": {},
   "outputs": [
    {
     "data": {
      "text/html": [
       "<div>\n",
       "<style scoped>\n",
       "    .dataframe tbody tr th:only-of-type {\n",
       "        vertical-align: middle;\n",
       "    }\n",
       "\n",
       "    .dataframe tbody tr th {\n",
       "        vertical-align: top;\n",
       "    }\n",
       "\n",
       "    .dataframe thead th {\n",
       "        text-align: right;\n",
       "    }\n",
       "</style>\n",
       "<table border=\"1\" class=\"dataframe\">\n",
       "  <thead>\n",
       "    <tr style=\"text-align: right;\">\n",
       "      <th></th>\n",
       "      <th>count</th>\n",
       "      <th>mean</th>\n",
       "      <th>std</th>\n",
       "      <th>min</th>\n",
       "      <th>max</th>\n",
       "    </tr>\n",
       "    <tr>\n",
       "      <th>cur_year</th>\n",
       "      <th></th>\n",
       "      <th></th>\n",
       "      <th></th>\n",
       "      <th></th>\n",
       "      <th></th>\n",
       "    </tr>\n",
       "  </thead>\n",
       "  <tbody>\n",
       "    <tr>\n",
       "      <th>(10.912, 20.778]</th>\n",
       "      <td>9</td>\n",
       "      <td>15.888889</td>\n",
       "      <td>2.934469</td>\n",
       "      <td>11</td>\n",
       "      <td>20</td>\n",
       "    </tr>\n",
       "    <tr>\n",
       "      <th>(20.778, 30.556]</th>\n",
       "      <td>10</td>\n",
       "      <td>25.500000</td>\n",
       "      <td>3.027650</td>\n",
       "      <td>21</td>\n",
       "      <td>30</td>\n",
       "    </tr>\n",
       "    <tr>\n",
       "      <th>(30.556, 40.333]</th>\n",
       "      <td>10</td>\n",
       "      <td>35.500000</td>\n",
       "      <td>3.027650</td>\n",
       "      <td>31</td>\n",
       "      <td>40</td>\n",
       "    </tr>\n",
       "    <tr>\n",
       "      <th>(40.333, 50.111]</th>\n",
       "      <td>10</td>\n",
       "      <td>45.500000</td>\n",
       "      <td>3.027650</td>\n",
       "      <td>41</td>\n",
       "      <td>50</td>\n",
       "    </tr>\n",
       "    <tr>\n",
       "      <th>(50.111, 59.889]</th>\n",
       "      <td>9</td>\n",
       "      <td>55.000000</td>\n",
       "      <td>2.738613</td>\n",
       "      <td>51</td>\n",
       "      <td>59</td>\n",
       "    </tr>\n",
       "    <tr>\n",
       "      <th>(59.889, 69.667]</th>\n",
       "      <td>10</td>\n",
       "      <td>64.500000</td>\n",
       "      <td>3.027650</td>\n",
       "      <td>60</td>\n",
       "      <td>69</td>\n",
       "    </tr>\n",
       "    <tr>\n",
       "      <th>(69.667, 79.444]</th>\n",
       "      <td>10</td>\n",
       "      <td>74.500000</td>\n",
       "      <td>3.027650</td>\n",
       "      <td>70</td>\n",
       "      <td>79</td>\n",
       "    </tr>\n",
       "    <tr>\n",
       "      <th>(79.444, 89.222]</th>\n",
       "      <td>10</td>\n",
       "      <td>84.500000</td>\n",
       "      <td>3.027650</td>\n",
       "      <td>80</td>\n",
       "      <td>89</td>\n",
       "    </tr>\n",
       "    <tr>\n",
       "      <th>(89.222, 99.0]</th>\n",
       "      <td>10</td>\n",
       "      <td>94.500000</td>\n",
       "      <td>3.027650</td>\n",
       "      <td>90</td>\n",
       "      <td>99</td>\n",
       "    </tr>\n",
       "  </tbody>\n",
       "</table>\n",
       "</div>"
      ],
      "text/plain": [
       "                  count       mean       std  min  max\n",
       "cur_year                                              \n",
       "(10.912, 20.778]      9  15.888889  2.934469   11   20\n",
       "(20.778, 30.556]     10  25.500000  3.027650   21   30\n",
       "(30.556, 40.333]     10  35.500000  3.027650   31   40\n",
       "(40.333, 50.111]     10  45.500000  3.027650   41   50\n",
       "(50.111, 59.889]      9  55.000000  2.738613   51   59\n",
       "(59.889, 69.667]     10  64.500000  3.027650   60   69\n",
       "(69.667, 79.444]     10  74.500000  3.027650   70   79\n",
       "(79.444, 89.222]     10  84.500000  3.027650   80   89\n",
       "(89.222, 99.0]       10  94.500000  3.027650   90   99"
      ]
     },
     "execution_count": 35,
     "metadata": {},
     "output_type": "execute_result"
    }
   ],
   "source": [
    "df_cur_year_2=pd.cut(df_cur_year.cur_year,9)\n",
    "grouped_df_cur_year_2 = df_cur_year.cur_year.groupby(df_cur_year_2)\n",
    "grouped_df_cur_year_2.agg(['count', 'mean', 'std', 'min', 'max'])"
   ]
  },
  {
   "cell_type": "markdown",
   "metadata": {},
   "source": [
    "연령대별로 **고르게** 직업 종사자들이 분포되어 있는 것을 확인 할 수 있다."
   ]
  },
  {
   "cell_type": "code",
   "execution_count": 36,
   "metadata": {},
   "outputs": [
    {
     "data": {
      "image/png": "[encoded data removed]",
      "text/plain": [
       "<Figure size 432x288 with 1 Axes>"
      ]
     },
     "metadata": {
      "needs_background": "light"
     },
     "output_type": "display_data"
    }
   ],
   "source": [
    "sns.stripplot(x='cur_year', y='income', data=df_cur_year)\n",
    "frame1 = plt.gca()\n",
    "frame1.axes.get_xaxis().set_visible(False)\n",
    "plt.title(\"연령에 따른 소득\")\n",
    "plt.show()"
   ]
  },
  {
   "cell_type": "markdown",
   "metadata": {},
   "source": [
    "나이에 따른 소득을 **stripplot**으로 확인해 보았다.<br/>\n",
    "위에서 연령대별로 직업 종사자가 고르게 분포되어 있음에도 불구하고 약 40~50대 이후엔 소득이 급격하게 떨어지고 있음이 확인되었다. 아마도 직장에서 많이 잘리거나 퇴사하기 때문으로 생각된다.<br/>\n",
    "앞의 **파생변수 데이터 시각화**에서 노령 인구가 많은 것을 확인할 수 있었다. 하지만 노령 인구 소득이 많이 낮은 편이므로 국가는 **노인 복지**에 신경을 써야 한다는 생각이 들었다."
   ]
  },
  {
   "cell_type": "markdown",
   "metadata": {},
   "source": [
    "## 7. 차별화 포인트"
   ]
  },
  {
   "cell_type": "markdown",
   "metadata": {},
   "source": [
    "**1. 파생변수로 현재 나이 cur_year을 만들었다.**\n",
    "    - 현재 나이를 이용해서 연령대별 소득을 찾았다.\n",
    "    - 40대까지 소득이 올라가다가 그 이후로 급격하게 떨어지는 것을 발견함\n",
    "    - 노령 인구 소득이 많이 낮은 것을 보고 노인 복지가 필요함을 알게됨.\n",
    "**2. 거주지역과 교육수준을 행 데이터로 이용하여 피봇 테이블 작성**\n",
    "    - 서울, 경기가 상대적으로 소득이 많다.\n",
    "    - 교육 수준이 높을수록 소득이 많다. 하지만 석/박사에 비해 대졸자가 앞도적으로 높기도 하다.\n",
    "    - 무엇보다도 전체적으로 남성이 여성에 비해 소득이 통계적으로 높다.\n",
    "**3. 거주지역으로 그룹화된 소득을 데이터 시각화로 확인**\n",
    "    - 새로운 데이터프레임을 제작하여 지역 양극화가 심각하다는 것을 확인\n",
    "**4. 파생변수(현재 나이)를 그룹화하여 데이터프레임을 만들고 연령대별로 구간화 하여 연령에 따른 소득을 확인**\n",
    "    - 40대~50대 이후에 소득이 떨어진다. 이는 그때부터 소득활동을 잘 할 수 없다는 것을 의미한다 생각한다.\n",
    "    - 노령인구 소득이 낮으므로 노인복지의 필요성을 느낌"
   ]
  },
  {
   "cell_type": "markdown",
   "metadata": {},
   "source": [
    "## 8. 빅데이터 수업을 마감하며"
   ]
  },
  {
   "cell_type": "markdown",
   "metadata": {},
   "source": [
    "나는 Data Scientist를 지망하여 대학원도 그 쪽 분야로 가려고 이미 알아봤었다. <br/>\n",
    "하지만 이전에 데이터 분석을 할 기회가 없었는데, 다행히 이번 학기에 Python으로 Pandas를 이용해 데이터 분석을 하면서 흥미를 많이 느꼈다. 특히 이번 기말고사 대체 과제를 하면서 체계적으로 데이터를 분석하는 것이 나와 잘 맞는 일이라고 생각하였다.<br/> \n",
    "이 수업을 들어서 정말 다행이라고 생각한다."
   ]
  }
 ],
 "metadata": {
  "kernelspec": {
   "display_name": "Python 3",
   "language": "python",
   "name": "python3"
  },
  "language_info": {
   "codemirror_mode": {
    "name": "ipython",
    "version": 3
   },
   "file_extension": ".py",
   "mimetype": "text/x-python",
   "name": "python",
   "nbconvert_exporter": "python",
   "pygments_lexer": "ipython3",
   "version": "3.7.7"
  }
 },
 "nbformat": 4,
 "nbformat_minor": 4
}
